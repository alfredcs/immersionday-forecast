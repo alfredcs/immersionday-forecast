{
 "cells": [
  {
   "cell_type": "markdown",
   "id": "f2e6cb6f-154c-40e1-8aa7-e63a010beaaf",
   "metadata": {},
   "source": [
    "## Get Started: A Quick Example\n",
    "Here is a simple time series example with GluonTS for predicting Twitter volume with DeepAR."
   ]
  },
  {
   "cell_type": "code",
   "execution_count": null,
   "id": "bf31a69e-3824-4818-b60e-b7e95666a529",
   "metadata": {},
   "outputs": [],
   "source": [
    "!pip install gluonts"
   ]
  },
  {
   "cell_type": "code",
   "execution_count": 4,
   "id": "d3ddc309-2aa7-4933-8c8c-d00d35b7866f",
   "metadata": {},
   "outputs": [],
   "source": [
    "from gluonts.dataset import common\n",
    "from gluonts.model import deepar\n",
    "from gluonts.mx.trainer import Trainer"
   ]
  },
  {
   "cell_type": "markdown",
   "id": "3defb0c4-6872-491a-9ab3-44cace7eefa8",
   "metadata": {},
   "source": [
    "Import direct historical TS dataset. This simple example illustrates how to train a model from GluonTS on some data, and then use it to make predictions. As a first step, we need to collect some data: in this example we will use the volume of tweets mentioning the AMZN ticker symbol."
   ]
  },
  {
   "cell_type": "code",
   "execution_count": 12,
   "id": "559d1c25-c8f9-4d75-8cec-65add98eb5e9",
   "metadata": {},
   "outputs": [],
   "source": [
    "import pandas as pd\n",
    "url = \"https://raw.githubusercontent.com/numenta/NAB/master/data/realTweets/Twitter_volume_AMZN.csv\"\n",
    "df = pd.read_csv(url, header=0, index_col=0)"
   ]
  },
  {
   "cell_type": "markdown",
   "id": "67025408-2982-467b-b3b4-5194a8e2adbd",
   "metadata": {},
   "source": [
    "The first 100 data points look like follows:"
   ]
  },
  {
   "cell_type": "code",
   "execution_count": 13,
   "id": "af0d5c85-3ebb-4955-afb7-7b453820fa23",
   "metadata": {},
   "outputs": [
    {
     "data": {
      "image/png": "[encoded data removed]",
      "text/plain": [
       "<Figure size 432x288 with 1 Axes>"
      ]
     },
     "metadata": {
      "needs_background": "light"
     },
     "output_type": "display_data"
    }
   ],
   "source": [
    "import matplotlib.pyplot as plt\n",
    "df[:100].plot(linewidth=2)\n",
    "plt.grid(which='both')\n",
    "plt.show()"
   ]
  },
  {
   "cell_type": "code",
   "execution_count": 14,
   "id": "9d6a0d4d-3f1d-449f-90e0-d0c1d1670896",
   "metadata": {},
   "outputs": [
    {
     "data": {
      "text/html": [
       "<div>\n",
       "<style scoped>\n",
       "    .dataframe tbody tr th:only-of-type {\n",
       "        vertical-align: middle;\n",
       "    }\n",
       "\n",
       "    .dataframe tbody tr th {\n",
       "        vertical-align: top;\n",
       "    }\n",
       "\n",
       "    .dataframe thead th {\n",
       "        text-align: right;\n",
       "    }\n",
       "</style>\n",
       "<table border=\"1\" class=\"dataframe\">\n",
       "  <thead>\n",
       "    <tr style=\"text-align: right;\">\n",
       "      <th></th>\n",
       "      <th>value</th>\n",
       "    </tr>\n",
       "    <tr>\n",
       "      <th>timestamp</th>\n",
       "      <th></th>\n",
       "    </tr>\n",
       "  </thead>\n",
       "  <tbody>\n",
       "    <tr>\n",
       "      <th>2015-02-26 21:42:53</th>\n",
       "      <td>57</td>\n",
       "    </tr>\n",
       "    <tr>\n",
       "      <th>2015-02-26 21:47:53</th>\n",
       "      <td>43</td>\n",
       "    </tr>\n",
       "    <tr>\n",
       "      <th>2015-02-26 21:52:53</th>\n",
       "      <td>55</td>\n",
       "    </tr>\n",
       "  </tbody>\n",
       "</table>\n",
       "</div>"
      ],
      "text/plain": [
       "                     value\n",
       "timestamp                 \n",
       "2015-02-26 21:42:53     57\n",
       "2015-02-26 21:47:53     43\n",
       "2015-02-26 21:52:53     55"
      ]
     },
     "execution_count": 14,
     "metadata": {},
     "output_type": "execute_result"
    }
   ],
   "source": [
    "df.head(3)"
   ]
  },
  {
   "cell_type": "markdown",
   "id": "fa13641e-f86d-4c6d-9c85-d5aaf9f5f81e",
   "metadata": {},
   "source": [
    "Notice in the output above there are 2 columns of data:\n",
    "\n",
    "1. The Timestamp\n",
    "\n",
    "2. A Value"
   ]
  },
  {
   "cell_type": "code",
   "execution_count": 15,
   "id": "e6429fbd-9456-40b3-b940-6bb39de3b9c7",
   "metadata": {},
   "outputs": [
    {
     "data": {
      "text/html": [
       "<div>\n",
       "<style scoped>\n",
       "    .dataframe tbody tr th:only-of-type {\n",
       "        vertical-align: middle;\n",
       "    }\n",
       "\n",
       "    .dataframe tbody tr th {\n",
       "        vertical-align: top;\n",
       "    }\n",
       "\n",
       "    .dataframe thead th {\n",
       "        text-align: right;\n",
       "    }\n",
       "</style>\n",
       "<table border=\"1\" class=\"dataframe\">\n",
       "  <thead>\n",
       "    <tr style=\"text-align: right;\">\n",
       "      <th></th>\n",
       "      <th>value</th>\n",
       "    </tr>\n",
       "  </thead>\n",
       "  <tbody>\n",
       "    <tr>\n",
       "      <th>count</th>\n",
       "      <td>15831.000000</td>\n",
       "    </tr>\n",
       "    <tr>\n",
       "      <th>mean</th>\n",
       "      <td>53.298465</td>\n",
       "    </tr>\n",
       "    <tr>\n",
       "      <th>std</th>\n",
       "      <td>30.553147</td>\n",
       "    </tr>\n",
       "    <tr>\n",
       "      <th>min</th>\n",
       "      <td>0.000000</td>\n",
       "    </tr>\n",
       "    <tr>\n",
       "      <th>25%</th>\n",
       "      <td>36.000000</td>\n",
       "    </tr>\n",
       "    <tr>\n",
       "      <th>50%</th>\n",
       "      <td>50.000000</td>\n",
       "    </tr>\n",
       "    <tr>\n",
       "      <th>75%</th>\n",
       "      <td>65.000000</td>\n",
       "    </tr>\n",
       "    <tr>\n",
       "      <th>max</th>\n",
       "      <td>1673.000000</td>\n",
       "    </tr>\n",
       "  </tbody>\n",
       "</table>\n",
       "</div>"
      ],
      "text/plain": [
       "              value\n",
       "count  15831.000000\n",
       "mean      53.298465\n",
       "std       30.553147\n",
       "min        0.000000\n",
       "25%       36.000000\n",
       "50%       50.000000\n",
       "75%       65.000000\n",
       "max     1673.000000"
      ]
     },
     "execution_count": 15,
     "metadata": {},
     "output_type": "execute_result"
    }
   ],
   "source": [
    "df.describe()"
   ]
  },
  {
   "cell_type": "markdown",
   "id": "531ac321-cc86-4cc5-a91e-3418dba3b06a",
   "metadata": {},
   "source": [
    "We can now prepare a training dataset for our model to train on. Datasets in GluonTS are essentially iterable collections of dictionaries: each dictionary represents a time series with possibly associated features. For this example, we only have one entry, specified by the \"start\" field which is the timestamp of the first datapoint, and the \"target\" field containing time series data. For training, we will use data up to midnight on April 5th, 2015."
   ]
  },
  {
   "cell_type": "code",
   "execution_count": 18,
   "id": "9c2251e6-1701-43e6-adde-2d47354e1576",
   "metadata": {},
   "outputs": [],
   "source": [
    "from gluonts.dataset.common import ListDataset\n",
    "training_data = ListDataset(\n",
    "    [{\"start\": df.index[0], \"target\": df.value[:\"2015-04-05 00:00:00\"]}],\n",
    "    freq = \"5min\"\n",
    ")"
   ]
  },
  {
   "cell_type": "markdown",
   "id": "58eae870-efe0-4a8b-9bde-c1da63893213",
   "metadata": {},
   "source": [
    "Now let's train a TS predictor using a gluonTS built-in algorithm DeepAR. During training, useful information about the progress will be displayed. To get a full overview of the available options, please refer to the documentation of DeepAREstimator (or other estimators) and Trainer."
   ]
  },
  {
   "cell_type": "code",
   "execution_count": 20,
   "id": "b5505464-c948-42c2-9421-98bcf0261cbe",
   "metadata": {},
   "outputs": [
    {
     "name": "stderr",
     "output_type": "stream",
     "text": [
      "  0%|          | 0/50 [00:00<?, ?it/s]"
     ]
    },
    {
     "name": "stdout",
     "output_type": "stream",
     "text": [
      "learning rate from ``lr_scheduler`` has been overwritten by ``learning_rate`` in optimizer.\n"
     ]
    },
    {
     "name": "stderr",
     "output_type": "stream",
     "text": [
      "100%|██████████| 50/50 [00:02<00:00, 21.71it/s, epoch=1/10, avg_epoch_loss=4.39]\n",
      "100%|██████████| 50/50 [00:02<00:00, 21.79it/s, epoch=2/10, avg_epoch_loss=4.07]\n",
      "100%|██████████| 50/50 [00:02<00:00, 23.34it/s, epoch=3/10, avg_epoch_loss=4.03]\n",
      "100%|██████████| 50/50 [00:02<00:00, 23.73it/s, epoch=4/10, avg_epoch_loss=4.01]\n",
      "100%|██████████| 50/50 [00:02<00:00, 23.86it/s, epoch=5/10, avg_epoch_loss=3.97]\n",
      "100%|██████████| 50/50 [00:02<00:00, 21.86it/s, epoch=6/10, avg_epoch_loss=3.97]\n",
      "100%|██████████| 50/50 [00:02<00:00, 23.66it/s, epoch=7/10, avg_epoch_loss=3.95]\n",
      "100%|██████████| 50/50 [00:02<00:00, 20.97it/s, epoch=8/10, avg_epoch_loss=3.95]\n",
      "100%|██████████| 50/50 [00:02<00:00, 21.75it/s, epoch=9/10, avg_epoch_loss=3.95]\n",
      "100%|██████████| 50/50 [00:02<00:00, 23.68it/s, epoch=10/10, avg_epoch_loss=3.96]"
     ]
    },
    {
     "name": "stdout",
     "output_type": "stream",
     "text": [
      "CPU times: user 21.2 s, sys: 1.79 s, total: 23 s\n",
      "Wall time: 22.3 s\n"
     ]
    },
    {
     "name": "stderr",
     "output_type": "stream",
     "text": [
      "\n"
     ]
    }
   ],
   "source": [
    "%%time\n",
    "estimator = deepar.DeepAREstimator(\n",
    "    freq=\"5min\", prediction_length=12, trainer=Trainer(epochs=10))\n",
    "predictor = estimator.train(training_data=data)"
   ]
  },
  {
   "cell_type": "code",
   "execution_count": 21,
   "id": "5805bf1f-8b36-4ad6-8a3d-8738a835ac71",
   "metadata": {},
   "outputs": [
    {
     "name": "stdout",
     "output_type": "stream",
     "text": [
      "[51.085243 46.408974 43.886646 40.543427 40.621094 44.599693 43.75963\n",
      " 41.93263  41.916447 43.223125 45.60345  44.41809 ]\n"
     ]
    }
   ],
   "source": [
    "prediction = next(predictor.predict(data))\n",
    "print(prediction.mean)"
   ]
  },
  {
   "cell_type": "code",
   "execution_count": 9,
   "id": "42815b12-cba1-46f5-a231-397f8f975ab7",
   "metadata": {},
   "outputs": [
    {
     "data": {
      "image/png": "[encoded data removed]",
      "text/plain": [
       "<Figure size 432x288 with 1 Axes>"
      ]
     },
     "metadata": {
      "needs_background": "light"
     },
     "output_type": "display_data"
    }
   ],
   "source": [
    "prediction.plot(output_file='graph.png')"
   ]
  },
  {
   "cell_type": "markdown",
   "id": "98addbfe-8194-4b26-aefb-cd6a0e8caa60",
   "metadata": {},
   "source": [
    "We're now ready to make predictions: we will forecast the hour following the midnight on April 15th, 2015."
   ]
  },
  {
   "cell_type": "code",
   "execution_count": 22,
   "id": "ad9c74b3-2f58-42e8-b00f-a5f261882b61",
   "metadata": {},
   "outputs": [
    {
     "data": {
      "image/png": "[encoded data removed]",
      "text/plain": [
       "<Figure size 432x288 with 1 Axes>"
      ]
     },
     "metadata": {
      "needs_background": "light"
     },
     "output_type": "display_data"
    }
   ],
   "source": [
    "test_data = ListDataset(\n",
    "    [{\"start\": df.index[0], \"target\": df.value[:\"2015-04-15 00:00:00\"]}],\n",
    "    freq = \"5min\"\n",
    ")\n",
    "\n",
    "from gluonts.dataset.util import to_pandas\n",
    "\n",
    "for test_entry, forecast in zip(test_data, predictor.predict(test_data)):\n",
    "    to_pandas(test_entry)[-60:].plot(linewidth=2)\n",
    "    forecast.plot(color='g', prediction_intervals=[50.0, 90.0])\n",
    "plt.grid(which='both')"
   ]
  },
  {
   "cell_type": "markdown",
   "id": "92407887-dd19-4148-95f5-042e4ce316ea",
   "metadata": {},
   "source": [
    "Note that the forecast is displayed in terms of a probability distribution: the shaded areas represent the 50% and 90% prediction intervals, respectively, centered around the median (dark green line)."
   ]
  },
  {
   "cell_type": "code",
   "execution_count": null,
   "id": "6f619d34-e319-433f-91f0-9cd7ef162ce2",
   "metadata": {},
   "outputs": [],
   "source": []
  }
 ],
 "metadata": {
  "kernelspec": {
   "display_name": "Python 3",
   "language": "python",
   "name": "python3"
  },
  "language_info": {
   "codemirror_mode": {
    "name": "ipython",
    "version": 3
   },
   "file_extension": ".py",
   "mimetype": "text/x-python",
   "name": "python",
   "nbconvert_exporter": "python",
   "pygments_lexer": "ipython3",
   "version": "3.8.8"
  }
 },
 "nbformat": 4,
 "nbformat_minor": 5
}
